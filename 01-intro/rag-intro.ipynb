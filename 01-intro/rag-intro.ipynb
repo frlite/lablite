{
  "cells": [
    {
      "cell_type": "code",
      "execution_count": 1,
      "id": "155f85a4-49cf-4489-afe8-bc595f622b3b",
      "metadata": {
        "id": "155f85a4-49cf-4489-afe8-bc595f622b3b",
        "outputId": "12c5ddac-719e-457e-d896-515b173868f8",
        "colab": {
          "base_uri": "https://localhost:8080/"
        }
      },
      "outputs": [
        {
          "output_type": "stream",
          "name": "stdout",
          "text": [
            "--2025-02-12 09:08:30--  https://raw.githubusercontent.com/alexeygrigorev/minsearch/main/minsearch.py\n",
            "Resolving raw.githubusercontent.com (raw.githubusercontent.com)... 185.199.108.133, 185.199.109.133, 185.199.110.133, ...\n",
            "Connecting to raw.githubusercontent.com (raw.githubusercontent.com)|185.199.108.133|:443... connected.\n",
            "HTTP request sent, awaiting response... 200 OK\n",
            "Length: 3832 (3.7K) [text/plain]\n",
            "Saving to: ‘minsearch.py’\n",
            "\n",
            "minsearch.py        100%[===================>]   3.74K  --.-KB/s    in 0s      \n",
            "\n",
            "2025-02-12 09:08:30 (39.9 MB/s) - ‘minsearch.py’ saved [3832/3832]\n",
            "\n"
          ]
        }
      ],
      "source": [
        "!wget https://raw.githubusercontent.com/alexeygrigorev/minsearch/main/minsearch.py"
      ]
    },
    {
      "cell_type": "code",
      "execution_count": 2,
      "id": "63b0fd25-41a2-48ad-b9bf-3f1265308bd4",
      "metadata": {
        "id": "63b0fd25-41a2-48ad-b9bf-3f1265308bd4"
      },
      "outputs": [],
      "source": [
        "import minsearch"
      ]
    },
    {
      "cell_type": "code",
      "execution_count": 3,
      "id": "9b37cce2-ed84-408b-9106-d61360aa82c9",
      "metadata": {
        "id": "9b37cce2-ed84-408b-9106-d61360aa82c9"
      },
      "outputs": [],
      "source": [
        "import json"
      ]
    },
    {
      "cell_type": "code",
      "source": [
        "!wget https://raw.githubusercontent.com/DataTalksClub/llm-zoomcamp/refs/heads/main/01-intro/documents.json"
      ],
      "metadata": {
        "id": "UvYYK7cBa7mU",
        "outputId": "bcbaf6e4-14ca-4773-811b-50af6273e42a",
        "colab": {
          "base_uri": "https://localhost:8080/"
        }
      },
      "id": "UvYYK7cBa7mU",
      "execution_count": 5,
      "outputs": [
        {
          "output_type": "stream",
          "name": "stdout",
          "text": [
            "--2025-02-12 09:09:50--  https://raw.githubusercontent.com/DataTalksClub/llm-zoomcamp/refs/heads/main/01-intro/documents.json\n",
            "Resolving raw.githubusercontent.com (raw.githubusercontent.com)... 185.199.109.133, 185.199.110.133, 185.199.108.133, ...\n",
            "Connecting to raw.githubusercontent.com (raw.githubusercontent.com)|185.199.109.133|:443... connected.\n",
            "HTTP request sent, awaiting response... 200 OK\n",
            "Length: 658332 (643K) [text/plain]\n",
            "Saving to: ‘documents.json’\n",
            "\n",
            "documents.json      100%[===================>] 642.90K  --.-KB/s    in 0.03s   \n",
            "\n",
            "2025-02-12 09:09:50 (18.7 MB/s) - ‘documents.json’ saved [658332/658332]\n",
            "\n"
          ]
        }
      ]
    },
    {
      "cell_type": "code",
      "execution_count": 6,
      "id": "5bdaf6ce-2540-494f-989c-5b94b1b6626c",
      "metadata": {
        "id": "5bdaf6ce-2540-494f-989c-5b94b1b6626c"
      },
      "outputs": [],
      "source": [
        "with open('documents.json', 'rt') as f_in:\n",
        "    docs_raw = json.load(f_in)"
      ]
    },
    {
      "cell_type": "code",
      "execution_count": 8,
      "id": "42b9b1f9-3c90-42b0-beb4-cb419f9cdcea",
      "metadata": {
        "id": "42b9b1f9-3c90-42b0-beb4-cb419f9cdcea"
      },
      "outputs": [],
      "source": [
        "documents = []\n",
        "\n",
        "for course_dict in docs_raw:\n",
        "    for doc in course_dict['documents']:\n",
        "        doc['course'] = course_dict['course']\n",
        "        documents.append(doc)"
      ]
    },
    {
      "cell_type": "code",
      "execution_count": 9,
      "id": "57de60e5-b96c-499c-a7cf-0f30fc33b324",
      "metadata": {
        "id": "57de60e5-b96c-499c-a7cf-0f30fc33b324",
        "outputId": "4e5c63ba-729a-46d9-f9ae-260130b5cd34",
        "colab": {
          "base_uri": "https://localhost:8080/"
        }
      },
      "outputs": [
        {
          "output_type": "execute_result",
          "data": {
            "text/plain": [
              "{'text': \"The purpose of this document is to capture frequently asked technical questions\\nThe exact day and hour of the course will be 15th Jan 2024 at 17h00. The course will start with the first  “Office Hours'' live.1\\nSubscribe to course public Google Calendar (it works from Desktop only).\\nRegister before the course starts using this link.\\nJoin the course Telegram channel with announcements.\\nDon’t forget to register in DataTalks.Club's Slack and join the channel.\",\n",
              " 'section': 'General course-related questions',\n",
              " 'question': 'Course - When will the course start?',\n",
              " 'course': 'data-engineering-zoomcamp'}"
            ]
          },
          "metadata": {},
          "execution_count": 9
        }
      ],
      "source": [
        "documents[0]"
      ]
    },
    {
      "cell_type": "code",
      "execution_count": 10,
      "id": "c499838b-73b3-44be-8ba6-f46d3693aa59",
      "metadata": {
        "id": "c499838b-73b3-44be-8ba6-f46d3693aa59"
      },
      "outputs": [],
      "source": [
        "index = minsearch.Index(\n",
        "    text_fields=[\"question\", \"text\", \"section\"],\n",
        "    keyword_fields=[\"course\"]\n",
        ")"
      ]
    },
    {
      "cell_type": "markdown",
      "id": "e201f0f3-b380-43a5-95ee-62b1b79002d1",
      "metadata": {
        "id": "e201f0f3-b380-43a5-95ee-62b1b79002d1"
      },
      "source": [
        "SELECT * WHERE course = 'data-engineering-zoomcamp';"
      ]
    },
    {
      "cell_type": "code",
      "execution_count": 11,
      "id": "a8d8ea88-7412-49c1-8a8e-44d0d0862a17",
      "metadata": {
        "id": "a8d8ea88-7412-49c1-8a8e-44d0d0862a17"
      },
      "outputs": [],
      "source": [
        "q = 'the course has already started, can I still enroll?'"
      ]
    },
    {
      "cell_type": "code",
      "execution_count": 12,
      "id": "ce7d0d18-5c07-4010-9f90-bbd021f110c8",
      "metadata": {
        "id": "ce7d0d18-5c07-4010-9f90-bbd021f110c8",
        "outputId": "c52343c2-751b-4e1d-b035-143394bb27e8",
        "colab": {
          "base_uri": "https://localhost:8080/"
        }
      },
      "outputs": [
        {
          "output_type": "execute_result",
          "data": {
            "text/plain": [
              "<minsearch.Index at 0x7e969d174350>"
            ]
          },
          "metadata": {},
          "execution_count": 12
        }
      ],
      "source": [
        "index.fit(documents)"
      ]
    },
    {
      "cell_type": "code",
      "source": [
        "from deepseek import DeepSeekClient  # 假设 DeepSeek 提供了类似的客户端库\n",
        "\n",
        "# 初始化 DeepSeek 客户端\n",
        "client = DeepSeekClient(api_key=\"your_deepseek_api_key\")  # 替换为你的 DeepSeek API 密钥\n",
        "\n",
        "# 定义用户输入的问题\n",
        "q = \"你的问题是什么？\"\n",
        "\n",
        "# 调用 DeepSeek 的聊天接口\n",
        "response = client.chat.completions.create(\n",
        "    model='deepseek-model-name',  # 替换为 DeepSeek 提供的模型名称\n",
        "    messages=[{\"role\": \"user\", \"content\": q}]\n",
        ")\n",
        "\n",
        "# 获取并输出响应内容\n",
        "print(response.choices[0].message.content)"
      ],
      "metadata": {
        "id": "VCLyOtvZ8zle"
      },
      "id": "VCLyOtvZ8zle",
      "execution_count": null,
      "outputs": []
    },
    {
      "cell_type": "code",
      "execution_count": 2,
      "id": "aa755a08-b98d-4e92-8994-04e6108499d9",
      "metadata": {
        "id": "aa755a08-b98d-4e92-8994-04e6108499d9"
      },
      "outputs": [],
      "source": [
        "from openai import OpenAI"
      ]
    },
    {
      "cell_type": "code",
      "execution_count": 14,
      "id": "ef8e9cdc-dfd4-4e54-a332-4b9bde4e6047",
      "metadata": {
        "id": "ef8e9cdc-dfd4-4e54-a332-4b9bde4e6047",
        "outputId": "28b2df9f-0793-432f-efdd-0cc15644c01c",
        "colab": {
          "base_uri": "https://localhost:8080/",
          "height": 293
        }
      },
      "outputs": [
        {
          "output_type": "error",
          "ename": "OpenAIError",
          "evalue": "The api_key client option must be set either by passing api_key to the client or by setting the OPENAI_API_KEY environment variable",
          "traceback": [
            "\u001b[0;31m---------------------------------------------------------------------------\u001b[0m",
            "\u001b[0;31mOpenAIError\u001b[0m                               Traceback (most recent call last)",
            "\u001b[0;32m<ipython-input-14-09b0aa1e1119>\u001b[0m in \u001b[0;36m<cell line: 0>\u001b[0;34m()\u001b[0m\n\u001b[0;32m----> 1\u001b[0;31m \u001b[0mclient\u001b[0m \u001b[0;34m=\u001b[0m \u001b[0mOpenAI\u001b[0m\u001b[0;34m(\u001b[0m\u001b[0;34m)\u001b[0m\u001b[0;34m\u001b[0m\u001b[0;34m\u001b[0m\u001b[0m\n\u001b[0m",
            "\u001b[0;32m/usr/local/lib/python3.11/dist-packages/openai/_client.py\u001b[0m in \u001b[0;36m__init__\u001b[0;34m(self, api_key, organization, project, base_url, websocket_base_url, timeout, max_retries, default_headers, default_query, http_client, _strict_response_validation)\u001b[0m\n\u001b[1;32m    108\u001b[0m             \u001b[0mapi_key\u001b[0m \u001b[0;34m=\u001b[0m \u001b[0mos\u001b[0m\u001b[0;34m.\u001b[0m\u001b[0menviron\u001b[0m\u001b[0;34m.\u001b[0m\u001b[0mget\u001b[0m\u001b[0;34m(\u001b[0m\u001b[0;34m\"OPENAI_API_KEY\"\u001b[0m\u001b[0;34m)\u001b[0m\u001b[0;34m\u001b[0m\u001b[0;34m\u001b[0m\u001b[0m\n\u001b[1;32m    109\u001b[0m         \u001b[0;32mif\u001b[0m \u001b[0mapi_key\u001b[0m \u001b[0;32mis\u001b[0m \u001b[0;32mNone\u001b[0m\u001b[0;34m:\u001b[0m\u001b[0;34m\u001b[0m\u001b[0;34m\u001b[0m\u001b[0m\n\u001b[0;32m--> 110\u001b[0;31m             raise OpenAIError(\n\u001b[0m\u001b[1;32m    111\u001b[0m                 \u001b[0;34m\"The api_key client option must be set either by passing api_key to the client or by setting the OPENAI_API_KEY environment variable\"\u001b[0m\u001b[0;34m\u001b[0m\u001b[0;34m\u001b[0m\u001b[0m\n\u001b[1;32m    112\u001b[0m             )\n",
            "\u001b[0;31mOpenAIError\u001b[0m: The api_key client option must be set either by passing api_key to the client or by setting the OPENAI_API_KEY environment variable"
          ]
        }
      ],
      "source": [
        "client = OpenAI()"
      ]
    },
    {
      "cell_type": "code",
      "execution_count": 4,
      "id": "e7da9664-ecb3-4d89-87da-9b2b942444d0",
      "metadata": {
        "id": "e7da9664-ecb3-4d89-87da-9b2b942444d0",
        "outputId": "30e87ab2-ed50-47f4-998f-343cb42f5452",
        "colab": {
          "base_uri": "https://localhost:8080/",
          "height": 220
        }
      },
      "outputs": [
        {
          "output_type": "error",
          "ename": "NameError",
          "evalue": "name 'client' is not defined",
          "traceback": [
            "\u001b[0;31m---------------------------------------------------------------------------\u001b[0m",
            "\u001b[0;31mNameError\u001b[0m                                 Traceback (most recent call last)",
            "\u001b[0;32m<ipython-input-4-b81fc0ff197c>\u001b[0m in \u001b[0;36m<cell line: 0>\u001b[0;34m()\u001b[0m\n\u001b[0;32m----> 1\u001b[0;31m response = client.chat.completions.create(\n\u001b[0m\u001b[1;32m      2\u001b[0m     \u001b[0mmodel\u001b[0m\u001b[0;34m=\u001b[0m\u001b[0;34m'gpt-4o'\u001b[0m\u001b[0;34m,\u001b[0m\u001b[0;34m\u001b[0m\u001b[0;34m\u001b[0m\u001b[0m\n\u001b[1;32m      3\u001b[0m     \u001b[0mmessages\u001b[0m\u001b[0;34m=\u001b[0m\u001b[0;34m[\u001b[0m\u001b[0;34m{\u001b[0m\u001b[0;34m\"role\"\u001b[0m\u001b[0;34m:\u001b[0m \u001b[0;34m\"user\"\u001b[0m\u001b[0;34m,\u001b[0m \u001b[0;34m\"content\"\u001b[0m\u001b[0;34m:\u001b[0m \u001b[0mq\u001b[0m\u001b[0;34m}\u001b[0m\u001b[0;34m]\u001b[0m\u001b[0;34m\u001b[0m\u001b[0;34m\u001b[0m\u001b[0m\n\u001b[1;32m      4\u001b[0m )\n\u001b[1;32m      5\u001b[0m \u001b[0;34m\u001b[0m\u001b[0m\n",
            "\u001b[0;31mNameError\u001b[0m: name 'client' is not defined"
          ]
        }
      ],
      "source": [
        "response = client.chat.completions.create(\n",
        "    model='gpt-4o',\n",
        "    messages=[{\"role\": \"user\", \"content\": q}]\n",
        ")\n",
        "\n",
        "response.choices[0].message.content"
      ]
    },
    {
      "cell_type": "code",
      "execution_count": null,
      "id": "b21237c3-80e9-429c-a089-d45428087046",
      "metadata": {
        "id": "b21237c3-80e9-429c-a089-d45428087046"
      },
      "outputs": [],
      "source": [
        "def search(query):\n",
        "    boost = {'question': 3.0, 'section': 0.5}\n",
        "\n",
        "    results = index.search(\n",
        "        query=query,\n",
        "        filter_dict={'course': 'data-engineering-zoomcamp'},\n",
        "        boost_dict=boost,\n",
        "        num_results=5\n",
        "    )\n",
        "\n",
        "    return results"
      ]
    },
    {
      "cell_type": "code",
      "execution_count": null,
      "id": "8cc5784e-6515-42e5-be62-8fb915df1088",
      "metadata": {
        "id": "8cc5784e-6515-42e5-be62-8fb915df1088"
      },
      "outputs": [],
      "source": [
        "def build_prompt(query, search_results):\n",
        "    prompt_template = \"\"\"\n",
        "You're a course teaching assistant. Answer the QUESTION based on the CONTEXT from the FAQ database.\n",
        "Use only the facts from the CONTEXT when answering the QUESTION.\n",
        "\n",
        "QUESTION: {question}\n",
        "\n",
        "CONTEXT:\n",
        "{context}\n",
        "\"\"\".strip()\n",
        "\n",
        "    context = \"\"\n",
        "\n",
        "    for doc in search_results:\n",
        "        context = context + f\"section: {doc['section']}\\nquestion: {doc['question']}\\nanswer: {doc['text']}\\n\\n\"\n",
        "\n",
        "    prompt = prompt_template.format(question=query, context=context).strip()\n",
        "    return prompt"
      ]
    },
    {
      "cell_type": "code",
      "execution_count": null,
      "id": "97d35dec-c25f-472d-b961-20d5c30902ae",
      "metadata": {
        "id": "97d35dec-c25f-472d-b961-20d5c30902ae"
      },
      "outputs": [],
      "source": [
        "def llm(prompt):\n",
        "    response = client.chat.completions.create(\n",
        "        model='gpt-4o',\n",
        "        messages=[{\"role\": \"user\", \"content\": prompt}]\n",
        "    )\n",
        "\n",
        "    return response.choices[0].message.content"
      ]
    },
    {
      "cell_type": "code",
      "execution_count": null,
      "id": "8602f40b-ad3b-49c9-b3cc-051a79c888bc",
      "metadata": {
        "id": "8602f40b-ad3b-49c9-b3cc-051a79c888bc"
      },
      "outputs": [],
      "source": [
        "query = 'how do I run kafka?'\n",
        "\n",
        "def rag(query):\n",
        "    search_results = search(query)\n",
        "    prompt = build_prompt(query, search_results)\n",
        "    answer = llm(prompt)\n",
        "    return answer"
      ]
    },
    {
      "cell_type": "code",
      "execution_count": null,
      "id": "5fd4497b-c5d5-4258-b950-6b35d1af4ec5",
      "metadata": {
        "id": "5fd4497b-c5d5-4258-b950-6b35d1af4ec5",
        "outputId": "da59cb5c-8e35-4c0d-ca39-18051f90df3a"
      },
      "outputs": [
        {
          "data": {
            "text/plain": [
              "\"To run Kafka, follow the relevant instructions based on your use case:\\n\\n### For Java:\\nNavigate to your project directory and use the following command in the terminal to run a Kafka producer/consumer/KStreams, etc.:\\n```shell\\njava -cp build/libs/<jar_name>-1.0-SNAPSHOT.jar:out src/main/java/org/example/JsonProducer.java\\n```\\nReplace `<jar_name>` with the actual name of your JAR file.\\n\\n### For Python:\\nIf you're running Python Kafka, ensure you have your virtual environment set up and activate it. Here’s how you can do it:\\n\\n1. **Create a virtual environment and install required packages (run only once):**\\n    ```shell\\n    python -m venv env\\n    source env/bin/activate\\n    pip install -r ../requirements.txt\\n    ```\\n\\n2. **Activate the virtual environment (run this every time you need it):**\\n    ```shell\\n    source env/bin/activate\\n    ```\\n\\n3. **Deactivate the virtual environment when done:**\\n    ```shell\\n    deactivate\\n    ```\\n\\nNote: On Windows, the activation command would be slightly different:\\n```shell\\nenv\\\\Scripts\\\\activate\\n```\\n\\nMake sure that your Docker images are up and running if they are part of your setup.\""
            ]
          },
          "execution_count": 16,
          "metadata": {},
          "output_type": "execute_result"
        }
      ],
      "source": [
        "rag(query)"
      ]
    },
    {
      "cell_type": "code",
      "execution_count": null,
      "id": "385b012f-4905-422d-8d7c-3d542dfe5a7c",
      "metadata": {
        "id": "385b012f-4905-422d-8d7c-3d542dfe5a7c",
        "outputId": "e82ed2c8-f66b-4384-a5aa-5ba3e84d5b8f"
      },
      "outputs": [
        {
          "data": {
            "text/plain": [
              "'Yes, you can still enroll in the course even after it has started. You are eligible to submit homework assignments, but please be mindful of the deadlines for the final projects to ensure you complete everything on time.'"
            ]
          },
          "execution_count": 17,
          "metadata": {},
          "output_type": "execute_result"
        }
      ],
      "source": [
        "rag('the course has already started, can I still enroll?')"
      ]
    },
    {
      "cell_type": "code",
      "execution_count": null,
      "id": "d3e04fb3-b7f7-4e53-8de9-a1c6cde3f038",
      "metadata": {
        "id": "d3e04fb3-b7f7-4e53-8de9-a1c6cde3f038",
        "outputId": "cd3fe706-11b4-451d-eee1-7ba8cf2e3653"
      },
      "outputs": [
        {
          "data": {
            "text/plain": [
              "{'text': \"The purpose of this document is to capture frequently asked technical questions\\nThe exact day and hour of the course will be 15th Jan 2024 at 17h00. The course will start with the first  “Office Hours'' live.1\\nSubscribe to course public Google Calendar (it works from Desktop only).\\nRegister before the course starts using this link.\\nJoin the course Telegram channel with announcements.\\nDon’t forget to register in DataTalks.Club's Slack and join the channel.\",\n",
              " 'section': 'General course-related questions',\n",
              " 'question': 'Course - When will the course start?',\n",
              " 'course': 'data-engineering-zoomcamp'}"
            ]
          },
          "execution_count": 18,
          "metadata": {},
          "output_type": "execute_result"
        }
      ],
      "source": [
        "documents[0]"
      ]
    },
    {
      "cell_type": "code",
      "execution_count": null,
      "id": "2c05052f-a85a-4137-8398-0fd0be678599",
      "metadata": {
        "id": "2c05052f-a85a-4137-8398-0fd0be678599"
      },
      "outputs": [],
      "source": [
        "from elasticsearch import Elasticsearch"
      ]
    },
    {
      "cell_type": "code",
      "execution_count": null,
      "id": "a78df1cc-5a5a-40b4-b673-19c7f0319453",
      "metadata": {
        "id": "a78df1cc-5a5a-40b4-b673-19c7f0319453"
      },
      "outputs": [],
      "source": [
        "es_client = Elasticsearch('http://localhost:9200')"
      ]
    },
    {
      "cell_type": "code",
      "execution_count": null,
      "id": "c9367c18-41ad-495e-9920-1a0c552f0d18",
      "metadata": {
        "id": "c9367c18-41ad-495e-9920-1a0c552f0d18",
        "outputId": "54517e8e-0ebc-465f-e0d8-63cf38a68878"
      },
      "outputs": [
        {
          "data": {
            "text/plain": [
              "ObjectApiResponse({'acknowledged': True, 'shards_acknowledged': True, 'index': 'course-questions'})"
            ]
          },
          "execution_count": 23,
          "metadata": {},
          "output_type": "execute_result"
        }
      ],
      "source": [
        "index_settings = {\n",
        "    \"settings\": {\n",
        "        \"number_of_shards\": 1,\n",
        "        \"number_of_replicas\": 0\n",
        "    },\n",
        "    \"mappings\": {\n",
        "        \"properties\": {\n",
        "            \"text\": {\"type\": \"text\"},\n",
        "            \"section\": {\"type\": \"text\"},\n",
        "            \"question\": {\"type\": \"text\"},\n",
        "            \"course\": {\"type\": \"keyword\"}\n",
        "        }\n",
        "    }\n",
        "}\n",
        "\n",
        "index_name = \"course-questions\"\n",
        "\n",
        "es_client.indices.create(index=index_name, body=index_settings)"
      ]
    },
    {
      "cell_type": "code",
      "execution_count": null,
      "id": "9f778c93-a5b6-4634-b42e-0c25083a2512",
      "metadata": {
        "id": "9f778c93-a5b6-4634-b42e-0c25083a2512",
        "outputId": "7ee8dc89-b500-4315-c38d-e47df8d3f997"
      },
      "outputs": [
        {
          "data": {
            "text/plain": [
              "{'text': \"The purpose of this document is to capture frequently asked technical questions\\nThe exact day and hour of the course will be 15th Jan 2024 at 17h00. The course will start with the first  “Office Hours'' live.1\\nSubscribe to course public Google Calendar (it works from Desktop only).\\nRegister before the course starts using this link.\\nJoin the course Telegram channel with announcements.\\nDon’t forget to register in DataTalks.Club's Slack and join the channel.\",\n",
              " 'section': 'General course-related questions',\n",
              " 'question': 'Course - When will the course start?',\n",
              " 'course': 'data-engineering-zoomcamp'}"
            ]
          },
          "execution_count": 24,
          "metadata": {},
          "output_type": "execute_result"
        }
      ],
      "source": [
        "documents[0]"
      ]
    },
    {
      "cell_type": "code",
      "execution_count": null,
      "id": "5c230059-e219-4a13-a7f8-ede4cf1b028f",
      "metadata": {
        "id": "5c230059-e219-4a13-a7f8-ede4cf1b028f",
        "outputId": "ea9ad590-f4db-44da-985c-e0f33b4f481e"
      },
      "outputs": [
        {
          "name": "stderr",
          "output_type": "stream",
          "text": [
            "/usr/local/python/3.10.13/lib/python3.10/site-packages/tqdm/auto.py:21: TqdmWarning: IProgress not found. Please update jupyter and ipywidgets. See https://ipywidgets.readthedocs.io/en/stable/user_install.html\n",
            "  from .autonotebook import tqdm as notebook_tqdm\n"
          ]
        }
      ],
      "source": [
        "from tqdm.auto import tqdm"
      ]
    },
    {
      "cell_type": "code",
      "execution_count": null,
      "id": "70fe3c97-916d-42c0-bd7b-4f42d9056409",
      "metadata": {
        "id": "70fe3c97-916d-42c0-bd7b-4f42d9056409",
        "outputId": "d50f583c-239c-4dc5-8fb7-4c08286754f8"
      },
      "outputs": [
        {
          "name": "stderr",
          "output_type": "stream",
          "text": [
            "100%|██████████████████████████████████| 948/948 [00:28<00:00, 33.07it/s]\n"
          ]
        }
      ],
      "source": [
        "for doc in tqdm(documents):\n",
        "    es_client.index(index=index_name, document=doc)"
      ]
    },
    {
      "cell_type": "code",
      "execution_count": null,
      "id": "f1bc1244-b8dc-4228-8171-c0507004db93",
      "metadata": {
        "id": "f1bc1244-b8dc-4228-8171-c0507004db93"
      },
      "outputs": [],
      "source": [
        "query = 'I just disovered the course. Can I still join it?'"
      ]
    },
    {
      "cell_type": "code",
      "execution_count": null,
      "id": "7c72e000-910b-4fb5-aa88-2561e7bc39f2",
      "metadata": {
        "id": "7c72e000-910b-4fb5-aa88-2561e7bc39f2"
      },
      "outputs": [],
      "source": [
        "def elastic_search(query):\n",
        "    search_query = {\n",
        "        \"size\": 5,\n",
        "        \"query\": {\n",
        "            \"bool\": {\n",
        "                \"must\": {\n",
        "                    \"multi_match\": {\n",
        "                        \"query\": query,\n",
        "                        \"fields\": [\"question^3\", \"text\", \"section\"],\n",
        "                        \"type\": \"best_fields\"\n",
        "                    }\n",
        "                },\n",
        "                \"filter\": {\n",
        "                    \"term\": {\n",
        "                        \"course\": \"data-engineering-zoomcamp\"\n",
        "                    }\n",
        "                }\n",
        "            }\n",
        "        }\n",
        "    }\n",
        "\n",
        "    response = es_client.search(index=index_name, body=search_query)\n",
        "\n",
        "    result_docs = []\n",
        "\n",
        "    for hit in response['hits']['hits']:\n",
        "        result_docs.append(hit['_source'])\n",
        "\n",
        "    return result_docs"
      ]
    },
    {
      "cell_type": "code",
      "execution_count": null,
      "id": "81abecbc-eb6b-428f-ab7d-7e21f58b64de",
      "metadata": {
        "id": "81abecbc-eb6b-428f-ab7d-7e21f58b64de"
      },
      "outputs": [],
      "source": [
        "def rag(query):\n",
        "    search_results = elastic_search(query)\n",
        "    prompt = build_prompt(query, search_results)\n",
        "    answer = llm(prompt)\n",
        "    return answer"
      ]
    },
    {
      "cell_type": "code",
      "execution_count": null,
      "id": "0ea9315a-a619-4066-9e90-8c260f2c8450",
      "metadata": {
        "id": "0ea9315a-a619-4066-9e90-8c260f2c8450",
        "outputId": "9b86c28e-af17-4f76-d574-4e696dd7fc86"
      },
      "outputs": [
        {
          "data": {
            "text/plain": [
              "'Yes, you can still join the course even if you discovered it after the start date. You are eligible to submit the homeworks, but be mindful of the deadlines for turning in the final projects. So make sure not to leave everything for the last minute.'"
            ]
          },
          "execution_count": 45,
          "metadata": {},
          "output_type": "execute_result"
        }
      ],
      "source": [
        "rag(query)"
      ]
    },
    {
      "cell_type": "code",
      "execution_count": null,
      "id": "d8095274-c9cd-4fd5-80d2-069fc951834f",
      "metadata": {
        "id": "d8095274-c9cd-4fd5-80d2-069fc951834f"
      },
      "outputs": [],
      "source": []
    }
  ],
  "metadata": {
    "kernelspec": {
      "display_name": "Python 3 (ipykernel)",
      "language": "python",
      "name": "python3"
    },
    "language_info": {
      "codemirror_mode": {
        "name": "ipython",
        "version": 3
      },
      "file_extension": ".py",
      "mimetype": "text/x-python",
      "name": "python",
      "nbconvert_exporter": "python",
      "pygments_lexer": "ipython3",
      "version": "3.10.13"
    },
    "colab": {
      "provenance": []
    }
  },
  "nbformat": 4,
  "nbformat_minor": 5
}